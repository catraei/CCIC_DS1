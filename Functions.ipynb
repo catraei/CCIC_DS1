{
 "cells": [
  {
   "cell_type": "code",
   "execution_count": 8,
   "id": "3351950c",
   "metadata": {},
   "outputs": [
    {
     "name": "stdout",
     "output_type": "stream",
     "text": [
      "[7, 4, 3, 2, 1]\n"
     ]
    }
   ],
   "source": [
    "def sort(list):\n",
    "    r = len(list)\n",
    "    for i in range(r-1):\n",
    "        for j in range(r-i-1):\n",
    "            if list[j] > list[j+1]:\n",
    "                list[j], list[j+1] = list[j+1], list[j]\n",
    "    return(list)[::-1]\n",
    "print(sort([1,2,4,7,3]))"
   ]
  },
  {
   "cell_type": "code",
   "execution_count": null,
   "id": "4058fd9b",
   "metadata": {},
   "outputs": [],
   "source": []
  }
 ],
 "metadata": {
  "kernelspec": {
   "display_name": "Python 3 (ipykernel)",
   "language": "python",
   "name": "python3"
  },
  "language_info": {
   "codemirror_mode": {
    "name": "ipython",
    "version": 3
   },
   "file_extension": ".py",
   "mimetype": "text/x-python",
   "name": "python",
   "nbconvert_exporter": "python",
   "pygments_lexer": "ipython3",
   "version": "3.9.12"
  }
 },
 "nbformat": 4,
 "nbformat_minor": 5
}

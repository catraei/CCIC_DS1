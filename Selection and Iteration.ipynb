{
 "cells": [
  {
   "cell_type": "code",
   "execution_count": null,
   "id": "b08cfa2d",
   "metadata": {},
   "outputs": [],
   "source": [
    "list1 = [3,2,5,4]\n",
    "list2 = [5,3,9,7,2]\n",
    "list1.sort()\n",
    "list2.sort()\n",
    "boo = True\n",
    "for i in list1:\n",
    "    if i in list2:\n",
    "        boo = True\n",
    "    else:\n",
    "        boo = False\n",
    "        break\n",
    "\n",
    "print(boo)"
   ]
  },
  {
   "cell_type": "code",
   "execution_count": null,
   "id": "21b8261c",
   "metadata": {},
   "outputs": [],
   "source": [
    "number = 7\n",
    "length = 5\n",
    "meep = []\n",
    "for i in range(1,length+1):\n",
    "    meep.append(number*i)\n",
    "print(meep)"
   ]
  },
  {
   "cell_type": "code",
   "execution_count": null,
   "id": "1f0e3d25",
   "metadata": {},
   "outputs": [],
   "source": [
    "number = int(input(\"Choose a number\"))\n",
    "length = int(input(\"Enter length: \"))\n",
    "num = []"
   ]
  },
  {
   "cell_type": "code",
   "execution_count": null,
   "id": "62511cc8",
   "metadata": {},
   "outputs": [],
   "source": [
    "for i in range(1,length+1):\n",
    "    num.append(i*number)"
   ]
  },
  {
   "cell_type": "code",
   "execution_count": null,
   "id": "b4e4b89f",
   "metadata": {},
   "outputs": [],
   "source": [
    "print(num)"
   ]
  },
  {
   "cell_type": "code",
   "execution_count": null,
   "id": "2bd6f4ec",
   "metadata": {},
   "outputs": [],
   "source": [
    "char_to_dots = {\n",
    "  'A': '.-', 'B': '-...', 'C': '-.-.', 'D': '-..', 'E': '.', 'F': '..-.',\n",
    "  'G': '--.', 'H': '....', 'I': '..', 'J': '.---', 'K': '-.-', 'L': '.-..',\n",
    "  'M': '--', 'N': '-.', 'O': '---', 'P': '.--.', 'Q': '--.-', 'R': '.-.',\n",
    "  'S': '...', 'T': '-', 'U': '..-', 'V': '...-', 'W': '.--', 'X': '-..-',\n",
    "  'Y': '-.--', 'Z': '--..', ' ': ' ', '0': '-----',\n",
    "  '1': '.----', '2': '..---', '3': '...--', '4': '....-', '5': '.....',\n",
    "  '6': '-....', '7': '--...', '8': '---..', '9': '----.',\n",
    "  '&': '.-...', \"'\": '.----.', '@': '.--.-.', ')': '-.--.-', '(': '-.--.',\n",
    "  ':': '---...', ',': '--..--', '=': '-...-', '!': '-.-.--', '.': '.-.-.-',\n",
    "  '-': '-....-', '+': '.-.-.', '\"': '.-..-.', '?': '..--..', '/': '-..-.'\n",
    "}\n",
    "\n",
    "beep = input('').upper()\n",
    "string = \"\"\n",
    "for char in beep:\n",
    "    string = string + (char_to_dots[char] + ' ')\n",
    "print(string)"
   ]
  },
  {
   "cell_type": "code",
   "execution_count": null,
   "id": "33774a03",
   "metadata": {},
   "outputs": [],
   "source": [
    "stage = [[1,2,3],[4,5,6]]"
   ]
  },
  {
   "cell_type": "code",
   "execution_count": null,
   "id": "54f2ce72",
   "metadata": {},
   "outputs": [],
   "source": [
    "result = True"
   ]
  },
  {
   "cell_type": "code",
   "execution_count": null,
   "id": "8aaaae13",
   "metadata": {},
   "outputs": [],
   "source": [
    "for c in range(len(stage[0])):\n",
    "    for r in range(1, len(stage)):\n",
    "        if r < len(stage) - 1 and stage[r][c] >= stage[r+1][c]:\n",
    "            result = False\n",
    "            break\n",
    "print(result)"
   ]
  },
  {
   "cell_type": "code",
   "execution_count": null,
   "id": "35d7adc4",
   "metadata": {},
   "outputs": [],
   "source": []
  }
 ],
 "metadata": {
  "kernelspec": {
   "display_name": "Python 3 (ipykernel)",
   "language": "python",
   "name": "python3"
  },
  "language_info": {
   "codemirror_mode": {
    "name": "ipython",
    "version": 3
   },
   "file_extension": ".py",
   "mimetype": "text/x-python",
   "name": "python",
   "nbconvert_exporter": "python",
   "pygments_lexer": "ipython3",
   "version": "3.9.12"
  }
 },
 "nbformat": 4,
 "nbformat_minor": 5
}

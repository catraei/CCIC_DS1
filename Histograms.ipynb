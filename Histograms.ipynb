{
 "cells": [
  {
   "cell_type": "code",
   "execution_count": 3,
   "id": "3536af1d",
   "metadata": {},
   "outputs": [
    {
     "name": "stdout",
     "output_type": "stream",
     "text": [
      "Timestamp   What's your favorite food?   How many pets do you own?   Who's your favorite music artist?   What grade are you in?   What's your favorite ice cream flavor?   \n",
      "9/22/2022 11:28:59   candy   0   idk duster or something edgy   10   mint chocolate chocolate chip   \n",
      "9/22/2022 11:30:47   Ramen   3   Half Alive   12   rocky road   \n",
      "9/22/2022 11:31:23   Chicken sandwich   1   Slipknot   11   Mint chip   \n",
      "9/22/2022 11:32:21   Pasta   0   Everything except country   12   Vanila   \n",
      "9/22/2022 11:32:47   Pizza   1   Coldplay   Not in school   Chocolate cip   \n",
      "9/22/2022 11:33:26   SIsig   1   Artic Monkeys   12   Peanut Butter   \n",
      "9/22/2022 11:34:14   ribs   0   don't got one   10   chocolate chip mint icecream   \n",
      "9/22/2022 11:34:46   chicken   1   Mac Miller   12   cookies n cream    \n",
      "9/22/2022 11:35:36   mexican cuisine   1   post malone   12   rocky road   \n",
      "9/22/2022 11:37:30   Mexican   3   .   11   Mint Chocolate Chip   \n",
      "9/22/2022 11:37:55   pho   0   jack harlow   12   choco   \n",
      "9/26/2022 9:31:54   I love eating Chicken Noodle Soup   0   I love riana siwft   11   i hate icc cream ebcause i am vega   \n",
      "9/26/2022 9:32:57   pho   0   missionary jack. jack harlow   12   chocolate   \n",
      "9/26/2022 9:34:15   Sisig   1   Artic Monkeys   12   Peanut Butter   \n",
      "9/26/2022 9:34:54   Pizzaa   2   Pop Smoke   10   Cookies and Cream   \n",
      "9/26/2022 9:35:30   ramen   3   half alive   12   rockie road   \n",
      "9/26/2022 9:36:07   pancakes   2   earl sweatshirt   11   strawberry   \n",
      "9/26/2022 9:37:12   Mexican   2   .   11   Mint chocolate chip   \n",
      "9/26/2022 9:37:41   Ribs   0   Drake   10   mint chocolate chip   \n",
      "9/26/2022 9:38:25   u   0   weeknd   12   vanilla   \n",
      "9/26/2022 9:39:00   Chicken   1   Radiohead   12   Cookies n' Cream   \n",
      "9/26/2022 9:39:26   Wings   1   Slipknot   11   Mintchip   \n",
      "9/26/2022 9:40:04   African food   0   kanye   12   vanille   \n",
      "9/26/2022 9:42:06   Mexican -- tacos   1   Coldplay   Not in school   Chocolate Chip   \n",
      "9/26/2022 9:42:59   south american food    1   post malone or jack harlow   12   rocky road   \n",
      "9/26/2022 9:44:41   Sushi   1   AJR   10   Chocolate   \n"
     ]
    }
   ],
   "source": [
    "a = [[\"What's your favorite food?\"[\"candy\",\"Ramen\",\"Chicken sandwich\",\"Pasta\",\"Pizza\",\"SIsig\",\"ribs\",\"chicken\",\"mexican cuisine\",\"Mexican\",\"pho\"\n",
    ",\"Chicken Noodle Soup\",\"pho\",\"Sisig\",\"Pizza\",\"ramen\",\"pancakes\",\"Mexican\",\"Ribs\",\"u\",\"Chicken\",\"Wings\",\"African food\",\"Mexican Tacos\",\"south american food\",\"Sushi\"],\n",
    "     [\"How many pets do you own\",\"0\",\"3\",\"1\",\"0\",\"1\",\"1\"\"0\",\"1\",\"1\",\"3\",\"0\",\"0\",\"0\",\"1\",\"2\",\"3\",\"2\",\"2\",\"0\",\"0\",\"1\",\"1\",\"0\",\"1\",\"1\",\"1\",],\n",
    "     [\"Who's your favorite music artist\",\"Duster\",\"Half Alive\",\"Slipnot\",\"Ev\"]]\n",
    "for i in a:\n",
    "    for x in i:\n",
    "        print(x, end=\"   \")\n",
    "    print('')"
   ]
  },
  {
   "cell_type": "code",
   "execution_count": null,
   "id": "7968eada",
   "metadata": {},
   "outputs": [],
   "source": []
  },
  {
   "cell_type": "code",
   "execution_count": null,
   "id": "7400ee93",
   "metadata": {},
   "outputs": [],
   "source": []
  }
 ],
 "metadata": {
  "kernelspec": {
   "display_name": "Python 3 (ipykernel)",
   "language": "python",
   "name": "python3"
  },
  "language_info": {
   "codemirror_mode": {
    "name": "ipython",
    "version": 3
   },
   "file_extension": ".py",
   "mimetype": "text/x-python",
   "name": "python",
   "nbconvert_exporter": "python",
   "pygments_lexer": "ipython3",
   "version": "3.9.12"
  }
 },
 "nbformat": 4,
 "nbformat_minor": 5
}

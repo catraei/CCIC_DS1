{
 "cells": [
  {
   "cell_type": "code",
   "execution_count": 2,
   "id": "0e88ee2d",
   "metadata": {},
   "outputs": [
    {
     "name": "stdout",
     "output_type": "stream",
     "text": [
      "[1, 3, 9, 23, 33, 47, 5522, 57643]\n",
      "Sorted array :\n",
      "1\n",
      "3\n",
      "9\n",
      "23\n",
      "33\n",
      "47\n",
      "5522\n",
      "57643\n",
      "\n",
      "0.024968624114990234\n"
     ]
    }
   ],
   "source": [
    "import time\n",
    "import random\n",
    "start = time.time()\n",
    "list1 = [1,9,3,57643,47,33,23,5522]\n",
    "def bogosort(list1):\n",
    "    n = len(list1)\n",
    "    while(is_sorted(list1)==False):\n",
    "        #print(list1)\n",
    "        list1 = shuffle(list1)\n",
    "    return list1\n",
    "def is_sorted(list1):\n",
    "    n = len(list1)\n",
    "    for i in range(0, n-1):\n",
    "        if(list1[i] > list1[i+1]):\n",
    "            return False\n",
    "    return True    \n",
    "def shuffle(list1):\n",
    "    n = len(list1)\n",
    "    for i in range(0,n):\n",
    "        r = random.randint(0,n-1)\n",
    "        list1[i], list1[r] = list1[r],list1[i]\n",
    "    return list1\n",
    "print(bogosort(list1))\n",
    "print(\"Sorted array :\")\n",
    "for i in range(len(list1)):\n",
    "    print(list1[i])\n",
    "end = time.time()\n",
    "totalTime = end - start\n",
    "print(\"\\n\"+ str(totalTime))"
   ]
  },
  {
   "cell_type": "code",
   "execution_count": 1,
   "id": "1d3bfc7b",
   "metadata": {},
   "outputs": [
    {
     "data": {
      "image/png": "[encoded data removed]",
      "text/plain": [
       "<Figure size 864x360 with 2 Axes>"
      ]
     },
     "metadata": {
      "needs_background": "light"
     },
     "output_type": "display_data"
    }
   ],
   "source": [
    "%matplotlib inline\n",
    "\n",
    "import numpy as np\n",
    "import matplotlib.pyplot as plt\n",
    "import seaborn as sns\n",
    "\n",
    "fig = plt.figure(figsize=(12,5))\n",
    "ax1 = plt.subplot(1,2,1)   \n",
    "ax2 = plt.subplot(1,2,2)\n",
    "\n",
    "ax1.set_xlim(( 0, 2))            \n",
    "ax1.set_ylim((-2, 2))\n",
    "ax1.set_xlabel('Time')\n",
    "ax1.set_ylabel('Magnitude')\n",
    "\n",
    "ax2.set_xlim((-2,2))\n",
    "ax2.set_ylim((-2,2))\n",
    "ax2.set_xlabel('X')\n",
    "ax2.set_ylabel('Y')\n",
    "ax2.set_title('Phase Plane')\n",
    "\n",
    "txt_title = ax1.set_title('')\n",
    "line1, = ax1.plot([], [], 'b', lw=2)  \n",
    "line2, = ax1.plot([], [], 'r', lw=2)\n",
    "pt1, = ax2.plot([], [], 'g.', ms=20)\n",
    "line3, = ax2.plot([], [], 'y', lw=2)\n",
    "\n",
    "ax1.legend(['sin','cos']);\n",
    "\n",
    "from matplotlib import animation\n",
    "anim = animation.FuncAnimation(fig, drawframe, frames=100, interval=20, blit=True)\n",
    "from IPython.display import HTML\n",
    "HTML(anim.to_html5_video())\n",
    "from matplotlib import rc\n",
    "\n",
    "# equivalent to rcParams['animation.html'] = 'html5'\n",
    "rc('animation', html='html5')"
   ]
  },
  {
   "cell_type": "code",
   "execution_count": null,
   "id": "28774cc1",
   "metadata": {},
   "outputs": [],
   "source": []
  }
 ],
 "metadata": {
  "kernelspec": {
   "display_name": "Python 3 (ipykernel)",
   "language": "python",
   "name": "python3"
  },
  "language_info": {
   "codemirror_mode": {
    "name": "ipython",
    "version": 3
   },
   "file_extension": ".py",
   "mimetype": "text/x-python",
   "name": "python",
   "nbconvert_exporter": "python",
   "pygments_lexer": "ipython3",
   "version": "3.9.12"
  }
 },
 "nbformat": 4,
 "nbformat_minor": 5
}

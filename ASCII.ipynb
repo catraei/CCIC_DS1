{
 "cells": [
  {
   "cell_type": "code",
   "execution_count": 12,
   "id": "cb6afca5",
   "metadata": {},
   "outputs": [
    {
     "name": "stdout",
     "output_type": "stream",
     "text": [
      "    ..                                         ..\n",
      "    ...                                      ...   .\n",
      "   .....                                    ....   .\n",
      "   .. ...                                 ...      .\n",
      "   .    ...                              ...       .\n",
      "   .     ....                           ...        .\n",
      "   .       ...                         ....        .\n",
      "   .        .... - - - - - - - - - - -....         .\n",
      "  /\n",
      "  /\n",
      " /\n",
      "/\n",
      "  /\n",
      " /\n",
      "  /\n",
      "   /\n",
      "   /\n",
      "    /\n",
      "      /\n",
      "        /\n",
      "           /\n",
      "              /- - - - - - - - - - - - - - - \n"
     ]
    }
   ],
   "source": [
    "print(\"    ..                                         ..\")\n",
    "print(\"    ...                                      ...   .\")\n",
    "print(\"   .....                                    ....   .\")\n",
    "print(\"   .. ...                                 ...      .\")\n",
    "print(\"   .    ...                              ...       .\")\n",
    "print(\"   .     ....                           ...        .\")\n",
    "print(\"   .       ...                         ....        .\")\n",
    "print(\"   .        .... - - - - - - - - - - -....         .\")\n",
    "print(\"  /\")\n",
    "print(\"  /\")\n",
    "print(\" /\")\n",
    "print(\"/\")\n",
    "print(\"  /\")\n",
    "print(\" /\")\n",
    "print(\"  /\")\n",
    "print(\"   /\")\n",
    "print(\"   /\")\n",
    "print(\"    /\")\n",
    "print(\"      /\")\n",
    "print(\"        /\")\n",
    "print(\"           /\")\n",
    "print(\"              /- - - - - - - - - - - - - - - \")"
   ]
  },
  {
   "cell_type": "code",
   "execution_count": null,
   "id": "a34bf7e6",
   "metadata": {},
   "outputs": [],
   "source": []
  },
  {
   "cell_type": "code",
   "execution_count": null,
   "id": "b642c50c",
   "metadata": {},
   "outputs": [],
   "source": []
  },
  {
   "cell_type": "code",
   "execution_count": null,
   "id": "4122ba96",
   "metadata": {},
   "outputs": [],
   "source": []
  },
  {
   "cell_type": "code",
   "execution_count": null,
   "id": "a535ed7e",
   "metadata": {},
   "outputs": [],
   "source": []
  },
  {
   "cell_type": "code",
   "execution_count": null,
   "id": "832605f9",
   "metadata": {},
   "outputs": [],
   "source": []
  },
  {
   "cell_type": "code",
   "execution_count": null,
   "id": "ee3f3cdb",
   "metadata": {},
   "outputs": [],
   "source": []
  },
  {
   "cell_type": "code",
   "execution_count": null,
   "id": "9c14517f",
   "metadata": {},
   "outputs": [],
   "source": []
  },
  {
   "cell_type": "code",
   "execution_count": null,
   "id": "10691630",
   "metadata": {},
   "outputs": [],
   "source": []
  },
  {
   "cell_type": "code",
   "execution_count": null,
   "id": "12f4594c",
   "metadata": {},
   "outputs": [],
   "source": []
  },
  {
   "cell_type": "code",
   "execution_count": null,
   "id": "4b6f8855",
   "metadata": {},
   "outputs": [],
   "source": []
  },
  {
   "cell_type": "code",
   "execution_count": null,
   "id": "6b38f005",
   "metadata": {},
   "outputs": [],
   "source": []
  },
  {
   "cell_type": "code",
   "execution_count": null,
   "id": "75287812",
   "metadata": {},
   "outputs": [],
   "source": []
  }
 ],
 "metadata": {
  "kernelspec": {
   "display_name": "Python 3 (ipykernel)",
   "language": "python",
   "name": "python3"
  },
  "language_info": {
   "codemirror_mode": {
    "name": "ipython",
    "version": 3
   },
   "file_extension": ".py",
   "mimetype": "text/x-python",
   "name": "python",
   "nbconvert_exporter": "python",
   "pygments_lexer": "ipython3",
   "version": "3.9.12"
  }
 },
 "nbformat": 4,
 "nbformat_minor": 5
}

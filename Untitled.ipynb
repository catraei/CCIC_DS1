{
 "cells": [
  {
   "cell_type": "code",
   "execution_count": 6,
   "id": "6cb7fa30",
   "metadata": {},
   "outputs": [],
   "source": [
    "import pandas as pd\n",
    "import seaborn as sns"
   ]
  },
  {
   "cell_type": "code",
   "execution_count": 7,
   "id": "8d6ff6de",
   "metadata": {},
   "outputs": [],
   "source": [
    "data = {'Gold':  ['Julia Krajewski', 'Ben Maher', 'Jessica Von Bredow-Werndl'],\n",
    "        'Silver': ['Tom Mcewen', 'Isabell Werth', 'Peder Fredricson'],\n",
    "        'Bronze': ['Charlotte Dujardin','Andrew Hoy','Maikel Van Der Vleuten']\n",
    "        }\n",
    "\n",
    "data = pd.DataFrame(data)"
   ]
  },
  {
   "cell_type": "code",
   "execution_count": 8,
   "id": "f69bccbb",
   "metadata": {},
   "outputs": [
    {
     "data": {
      "text/html": [
       "<div>\n",
       "<style scoped>\n",
       "    .dataframe tbody tr th:only-of-type {\n",
       "        vertical-align: middle;\n",
       "    }\n",
       "\n",
       "    .dataframe tbody tr th {\n",
       "        vertical-align: top;\n",
       "    }\n",
       "\n",
       "    .dataframe thead th {\n",
       "        text-align: right;\n",
       "    }\n",
       "</style>\n",
       "<table border=\"1\" class=\"dataframe\">\n",
       "  <thead>\n",
       "    <tr style=\"text-align: right;\">\n",
       "      <th></th>\n",
       "      <th>Gold</th>\n",
       "      <th>Silver</th>\n",
       "      <th>Bronze</th>\n",
       "    </tr>\n",
       "  </thead>\n",
       "  <tbody>\n",
       "    <tr>\n",
       "      <th>0</th>\n",
       "      <td>Julia Krajewski</td>\n",
       "      <td>Tom Mcewen</td>\n",
       "      <td>Charlotte Dujardin</td>\n",
       "    </tr>\n",
       "    <tr>\n",
       "      <th>1</th>\n",
       "      <td>Ben Maher</td>\n",
       "      <td>Isabell Werth</td>\n",
       "      <td>Andrew Hoy</td>\n",
       "    </tr>\n",
       "    <tr>\n",
       "      <th>2</th>\n",
       "      <td>Jessica Von Bredow-Werndl</td>\n",
       "      <td>Peder Fredricson</td>\n",
       "      <td>Maikel Van Der Vleuten</td>\n",
       "    </tr>\n",
       "  </tbody>\n",
       "</table>\n",
       "</div>"
      ],
      "text/plain": [
       "                        Gold            Silver                  Bronze\n",
       "0            Julia Krajewski        Tom Mcewen      Charlotte Dujardin\n",
       "1                  Ben Maher     Isabell Werth              Andrew Hoy\n",
       "2  Jessica Von Bredow-Werndl  Peder Fredricson  Maikel Van Der Vleuten"
      ]
     },
     "execution_count": 8,
     "metadata": {},
     "output_type": "execute_result"
    }
   ],
   "source": [
    "data"
   ]
  },
  {
   "cell_type": "code",
   "execution_count": null,
   "id": "baea689f",
   "metadata": {},
   "outputs": [],
   "source": [
    "top20 = top[:20]"
   ]
  },
  {
   "cell_type": "code",
   "execution_count": 11,
   "id": "1225123c",
   "metadata": {},
   "outputs": [
    {
     "ename": "NameError",
     "evalue": "name 'top20' is not defined",
     "output_type": "error",
     "traceback": [
      "\u001b[1;31m---------------------------------------------------------------------------\u001b[0m",
      "\u001b[1;31mNameError\u001b[0m                                 Traceback (most recent call last)",
      "\u001b[1;32m~\\AppData\\Local\\Temp\\ipykernel_14708\\1021954047.py\u001b[0m in \u001b[0;36m<module>\u001b[1;34m\u001b[0m\n\u001b[1;32m----> 1\u001b[1;33m \u001b[0msns\u001b[0m\u001b[1;33m.\u001b[0m\u001b[0mbarplot\u001b[0m\u001b[1;33m(\u001b[0m\u001b[0mdata\u001b[0m\u001b[1;33m=\u001b[0m \u001b[0mtop20\u001b[0m\u001b[1;33m,\u001b[0m\u001b[0mx\u001b[0m \u001b[1;33m=\u001b[0m \u001b[1;34m'Gold'\u001b[0m\u001b[1;33m,\u001b[0m \u001b[0my\u001b[0m \u001b[1;33m=\u001b[0m \u001b[1;34m'Silver'\u001b[0m\u001b[1;33m,\u001b[0m \u001b[1;33m)\u001b[0m\u001b[1;33m\u001b[0m\u001b[1;33m\u001b[0m\u001b[0m\n\u001b[0m",
      "\u001b[1;31mNameError\u001b[0m: name 'top20' is not defined"
     ]
    }
   ],
   "source": [
    "sns.barplot(data= top20,x = 'Gold', y = 'Silver', )"
   ]
  },
  {
   "cell_type": "code",
   "execution_count": null,
   "id": "6f13a5f4",
   "metadata": {},
   "outputs": [],
   "source": []
  }
 ],
 "metadata": {
  "kernelspec": {
   "display_name": "Python 3 (ipykernel)",
   "language": "python",
   "name": "python3"
  },
  "language_info": {
   "codemirror_mode": {
    "name": "ipython",
    "version": 3
   },
   "file_extension": ".py",
   "mimetype": "text/x-python",
   "name": "python",
   "nbconvert_exporter": "python",
   "pygments_lexer": "ipython3",
   "version": "3.9.13"
  }
 },
 "nbformat": 4,
 "nbformat_minor": 5
}

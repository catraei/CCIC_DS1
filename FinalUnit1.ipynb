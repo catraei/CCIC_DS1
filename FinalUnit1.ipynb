{
 "cells": [
  {
   "cell_type": "code",
   "execution_count": 21,
   "id": "0e88ee2d",
   "metadata": {},
   "outputs": [
    {
     "name": "stdout",
     "output_type": "stream",
     "text": [
      "[4]\n",
      "Sorted array :\n",
      "4\n",
      "Comparisons\n",
      "1\n",
      "\n",
      "0.0\n"
     ]
    }
   ],
   "source": [
    "import time\n",
    "import random\n",
    "start = time.time()\n",
    "list1 = [4]\n",
    "global a\n",
    "a = 0\n",
    "def bogosort(list1):\n",
    "    global a\n",
    "    n = len(list1)\n",
    "    while(is_sorted(list1)==False):\n",
    "        a += 1\n",
    "        #print(list1)\n",
    "        list1 = shuffle(list1)\n",
    "    a += 1\n",
    "    return list1\n",
    "def is_sorted(list1):\n",
    "    global a\n",
    "    n = len(list1)\n",
    "    for i in range(0, n-1):\n",
    "        if(list1[i] > list1[i+1]):\n",
    "            a += 1\n",
    "            return False\n",
    "        else:\n",
    "            a += 1\n",
    "    return True    \n",
    "def shuffle(list1):\n",
    "    n = len(list1)\n",
    "    for i in range(0,n):\n",
    "        r = random.randint(0,n-1)\n",
    "        list1[i], list1[r] = list1[r],list1[i]\n",
    "    return list1\n",
    "print(bogosort(list1))\n",
    "print(\"Sorted array :\")\n",
    "for i in range(len(list1)):\n",
    "    print(list1[i])\n",
    "end = time.time()\n",
    "totalTime = end - start\n",
    "print(\"Comparisons\")\n",
    "print(a)\n",
    "print(\"\\n\"+ str(totalTime))"
   ]
  },
  {
   "cell_type": "code",
   "execution_count": null,
   "id": "f2c353eb",
   "metadata": {},
   "outputs": [],
   "source": []
  }
 ],
 "metadata": {
  "kernelspec": {
   "display_name": "Python 3 (ipykernel)",
   "language": "python",
   "name": "python3"
  },
  "language_info": {
   "codemirror_mode": {
    "name": "ipython",
    "version": 3
   },
   "file_extension": ".py",
   "mimetype": "text/x-python",
   "name": "python",
   "nbconvert_exporter": "python",
   "pygments_lexer": "ipython3",
   "version": "3.9.12"
  }
 },
 "nbformat": 4,
 "nbformat_minor": 5
}

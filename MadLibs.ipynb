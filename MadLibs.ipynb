{
 "cells": [
  {
   "cell_type": "code",
   "execution_count": 12,
   "id": "700f72de",
   "metadata": {},
   "outputs": [
    {
     "name": "stdout",
     "output_type": "stream",
     "text": [
      "Enter a nounhehe\n",
      "Enter a nounhehe\n",
      "Enter a nounhehe\n",
      "Enter a nounhehe\n",
      "Enter a nounhehe\n",
      "Enter a verbhehe\n",
      "Enter a verbhehe\n",
      "Enter a namehehe\n",
      "Enter a plural nounhehe\n",
      "Enter an adjectivehehe\n",
      "It was a cold November day.I woke up to the hehe smell of hehe roasting in the kitchen downstairs.\n",
      "I hehe down the stairs to see if I could help hehe the dinner. My mom said see if hehe needs fresh hehe\n",
      "So I carried a tray of glasses full of hehe into the dining room. When I got there I couldn't believe my hehe\n",
      "There were hehe on the hehe. I nearly cried to be honest!\n"
     ]
    }
   ],
   "source": [
    "noun1 = input(\"Enter a noun\")\n",
    "noun2 = input(\"Enter a noun\")\n",
    "noun3 = input(\"Enter a noun\")\n",
    "noun4 = input(\"Enter a noun\")\n",
    "noun5 = input(\"Enter a noun\")\n",
    "verb1 = input(\"Enter a verb\")\n",
    "verb2 = input(\"Enter a verb\")\n",
    "name = input(\"Enter a name\")\n",
    "pluralNoun = input(\"Enter a plural noun\")\n",
    "adjective = input(\"Enter an adjective\")\n",
    "print(\"It was a cold November day.I woke up to the \" + adjective + \" smell of \" + noun1 + \" roasting in the kitchen downstairs.\")\n",
    "print(\"I \" + verb1 + \" down the stairs to see if I could help \" + verb2 + \" the dinner. My mom said see if \" + name + \" needs fresh \" + noun2)\n",
    "print(\"So I carried a tray of glasses full of \" + noun3 + \" into the dining room. When I got there I couldn't believe my \" + noun4)\n",
    "print(\"There were \" + pluralNoun + \" on the \" + noun5 + \". I nearly cried to be honest!\")"
   ]
  },
  {
   "cell_type": "code",
   "execution_count": null,
   "id": "c4dad9c1",
   "metadata": {},
   "outputs": [],
   "source": [
    "hehe"
   ]
  },
  {
   "cell_type": "code",
   "execution_count": null,
   "id": "ad04b2a1",
   "metadata": {},
   "outputs": [],
   "source": []
  }
 ],
 "metadata": {
  "kernelspec": {
   "display_name": "Python 3 (ipykernel)",
   "language": "python",
   "name": "python3"
  },
  "language_info": {
   "codemirror_mode": {
    "name": "ipython",
    "version": 3
   },
   "file_extension": ".py",
   "mimetype": "text/x-python",
   "name": "python",
   "nbconvert_exporter": "python",
   "pygments_lexer": "ipython3",
   "version": "3.9.12"
  }
 },
 "nbformat": 4,
 "nbformat_minor": 5
}

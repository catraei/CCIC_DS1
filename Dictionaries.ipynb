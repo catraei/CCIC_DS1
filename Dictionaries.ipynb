{
 "cells": [
  {
   "cell_type": "code",
   "execution_count": 4,
   "id": "6d3898c9",
   "metadata": {},
   "outputs": [
    {
     "name": "stdout",
     "output_type": "stream",
     "text": [
      "{'day': ['2001-08-8', 'Tuesday', '87', '89', '1']}\n",
      "{}\n"
     ]
    }
   ],
   "source": [
    "a={\"day\":[\"2001-08-8\", \"Tuesday\", \"87\", \"89\",\"1\"]}\n",
    "print(a)\n",
    "del a[\"day\"]\n",
    "print(a)"
   ]
  },
  {
   "cell_type": "code",
   "execution_count": 12,
   "id": "99ef836e",
   "metadata": {},
   "outputs": [
    {
     "name": "stdout",
     "output_type": "stream",
     "text": [
      "{'day': ['Wednesday', 'Thursday', 'Friday', 'Saturday', 'Sunday', 'Monday', 'Tuesday'], 'red': [50, 60, 51, 79, 77, 93, 55], 'green': [25, 31, 24, 21, 39, 40, 32], 'blue': [71, 53, 50, 69, 57, 66, 63]}\n"
     ]
    }
   ],
   "source": [
    "x = {\"date\":[\"2001-08-01\", \"2001-08-02\",\"2001-08-03\",\"2001-08-04\",\"2001-08-05\",\"2001-08-06\",\"2001-08-07\"],\n",
    "     \"day\":[\"Wednesday\",\"Thursday\",\"Friday\",\"Saturday\",\"Sunday\",\"Monday\",\"Tuesday\"],\n",
    "     \"red\":[50,60,51, 79, 77, 93, 55],\n",
    "     \"green\":[25,31,24,21,39,40,32],\n",
    "     \"blue\":[71,53,50,69,57,66,63]}\n",
    "del x[\"date\"]\n",
    "print(x)"
   ]
  },
  {
   "cell_type": "code",
   "execution_count": null,
   "id": "f8d0c2b7",
   "metadata": {},
   "outputs": [],
   "source": []
  }
 ],
 "metadata": {
  "kernelspec": {
   "display_name": "Python 3 (ipykernel)",
   "language": "python",
   "name": "python3"
  },
  "language_info": {
   "codemirror_mode": {
    "name": "ipython",
    "version": 3
   },
   "file_extension": ".py",
   "mimetype": "text/x-python",
   "name": "python",
   "nbconvert_exporter": "python",
   "pygments_lexer": "ipython3",
   "version": "3.9.12"
  }
 },
 "nbformat": 4,
 "nbformat_minor": 5
}

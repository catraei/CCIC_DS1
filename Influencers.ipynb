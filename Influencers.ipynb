{
 "cells": [
  {
   "cell_type": "code",
   "execution_count": 1,
   "id": "a865f81b",
   "metadata": {},
   "outputs": [],
   "source": [
    "import pandas as pd\n",
    "import seaborn as sns"
   ]
  },
  {
   "cell_type": "code",
   "execution_count": 2,
   "id": "59a77c89",
   "metadata": {},
   "outputs": [],
   "source": [
    "data = pd.read_csv('inf.csv')  "
   ]
  },
  {
   "cell_type": "code",
   "execution_count": null,
   "id": "b7efc515",
   "metadata": {},
   "outputs": [],
   "source": [
    "data.head()"
   ]
  },
  {
   "cell_type": "code",
   "execution_count": null,
   "id": "8adfc89d",
   "metadata": {},
   "outputs": [],
   "source": [
    "data.info()"
   ]
  },
  {
   "cell_type": "code",
   "execution_count": 4,
   "id": "46749541",
   "metadata": {},
   "outputs": [],
   "source": [
    "followers = data['Followers'].str.replace('m', '')"
   ]
  },
  {
   "cell_type": "code",
   "execution_count": 5,
   "id": "2242aa2c",
   "metadata": {},
   "outputs": [],
   "source": [
    "data[\"Followers\"] = followers"
   ]
  },
  {
   "cell_type": "code",
   "execution_count": 6,
   "id": "fec6a52f",
   "metadata": {},
   "outputs": [],
   "source": [
    "followers = data['Followers'].astype(float)\n",
    "data[\"Followers\"] = followers"
   ]
  },
  {
   "cell_type": "code",
   "execution_count": 7,
   "id": "16d85896",
   "metadata": {},
   "outputs": [
    {
     "data": {
      "text/html": [
       "<div>\n",
       "<style scoped>\n",
       "    .dataframe tbody tr th:only-of-type {\n",
       "        vertical-align: middle;\n",
       "    }\n",
       "\n",
       "    .dataframe tbody tr th {\n",
       "        vertical-align: top;\n",
       "    }\n",
       "\n",
       "    .dataframe thead th {\n",
       "        text-align: right;\n",
       "    }\n",
       "</style>\n",
       "<table border=\"1\" class=\"dataframe\">\n",
       "  <thead>\n",
       "    <tr style=\"text-align: right;\">\n",
       "      <th></th>\n",
       "      <th>Rank</th>\n",
       "      <th>Channel Info</th>\n",
       "      <th>Influence Score</th>\n",
       "      <th>Followers</th>\n",
       "      <th>Avg. Likes</th>\n",
       "      <th>Posts</th>\n",
       "      <th>60-Day Eng Rate</th>\n",
       "      <th>New Post Avg. Likes</th>\n",
       "      <th>Total Likes</th>\n",
       "      <th>Country Or Region</th>\n",
       "    </tr>\n",
       "  </thead>\n",
       "  <tbody>\n",
       "    <tr>\n",
       "      <th>0</th>\n",
       "      <td>1</td>\n",
       "      <td>\\ncristiano</td>\n",
       "      <td>92</td>\n",
       "      <td>485.2</td>\n",
       "      <td>8.7m</td>\n",
       "      <td>3.4k</td>\n",
       "      <td>0.013</td>\n",
       "      <td>6.3m</td>\n",
       "      <td>29.1b</td>\n",
       "      <td>Spain</td>\n",
       "    </tr>\n",
       "    <tr>\n",
       "      <th>1</th>\n",
       "      <td>2</td>\n",
       "      <td>kyliejenner</td>\n",
       "      <td>91</td>\n",
       "      <td>370.7</td>\n",
       "      <td>8.2m</td>\n",
       "      <td>7.0k</td>\n",
       "      <td>0.014</td>\n",
       "      <td>5.0m</td>\n",
       "      <td>57.4b</td>\n",
       "      <td>United States</td>\n",
       "    </tr>\n",
       "    <tr>\n",
       "      <th>2</th>\n",
       "      <td>3</td>\n",
       "      <td>\\nleomessi</td>\n",
       "      <td>90</td>\n",
       "      <td>363.9</td>\n",
       "      <td>6.7m</td>\n",
       "      <td>915</td>\n",
       "      <td>0.010</td>\n",
       "      <td>3.5m</td>\n",
       "      <td>6.1b</td>\n",
       "      <td>NaN</td>\n",
       "    </tr>\n",
       "    <tr>\n",
       "      <th>3</th>\n",
       "      <td>4</td>\n",
       "      <td>\\nselenagomez</td>\n",
       "      <td>93</td>\n",
       "      <td>348.8</td>\n",
       "      <td>6.1m</td>\n",
       "      <td>1.9k</td>\n",
       "      <td>0.005</td>\n",
       "      <td>1.7m</td>\n",
       "      <td>11.4b</td>\n",
       "      <td>United States</td>\n",
       "    </tr>\n",
       "    <tr>\n",
       "      <th>4</th>\n",
       "      <td>5</td>\n",
       "      <td>\\ntherock</td>\n",
       "      <td>91</td>\n",
       "      <td>339.4</td>\n",
       "      <td>1.8m</td>\n",
       "      <td>6.8k</td>\n",
       "      <td>0.003</td>\n",
       "      <td>932.0k</td>\n",
       "      <td>12.6b</td>\n",
       "      <td>United States</td>\n",
       "    </tr>\n",
       "  </tbody>\n",
       "</table>\n",
       "</div>"
      ],
      "text/plain": [
       "   Rank   Channel Info  Influence Score  Followers Avg. Likes Posts  \\\n",
       "0     1    \\ncristiano               92      485.2       8.7m  3.4k   \n",
       "1     2    kyliejenner               91      370.7       8.2m  7.0k   \n",
       "2     3     \\nleomessi               90      363.9       6.7m   915   \n",
       "3     4  \\nselenagomez               93      348.8       6.1m  1.9k   \n",
       "4     5      \\ntherock               91      339.4       1.8m  6.8k   \n",
       "\n",
       "   60-Day Eng Rate New Post Avg. Likes Total Likes Country Or Region  \n",
       "0            0.013                6.3m       29.1b             Spain  \n",
       "1            0.014                5.0m       57.4b     United States  \n",
       "2            0.010                3.5m        6.1b               NaN  \n",
       "3            0.005                1.7m       11.4b     United States  \n",
       "4            0.003              932.0k       12.6b     United States  "
      ]
     },
     "execution_count": 7,
     "metadata": {},
     "output_type": "execute_result"
    }
   ],
   "source": [
    "data.head()"
   ]
  },
  {
   "cell_type": "code",
   "execution_count": null,
   "id": "b56ee6a3",
   "metadata": {},
   "outputs": [],
   "source": [
    "sns.regplot(x=data['Followers'], y=data['Influence Score'])"
   ]
  },
  {
   "cell_type": "code",
   "execution_count": null,
   "id": "712b58f3",
   "metadata": {},
   "outputs": [],
   "source": []
  }
 ],
 "metadata": {
  "kernelspec": {
   "display_name": "Python 3 (ipykernel)",
   "language": "python",
   "name": "python3"
  },
  "language_info": {
   "codemirror_mode": {
    "name": "ipython",
    "version": 3
   },
   "file_extension": ".py",
   "mimetype": "text/x-python",
   "name": "python",
   "nbconvert_exporter": "python",
   "pygments_lexer": "ipython3",
   "version": "3.9.12"
  }
 },
 "nbformat": 4,
 "nbformat_minor": 5
}

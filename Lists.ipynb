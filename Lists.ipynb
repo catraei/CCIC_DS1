{
 "cells": [
  {
   "cell_type": "code",
   "execution_count": 3,
   "id": "6a80a12e",
   "metadata": {},
   "outputs": [
    {
     "name": "stdout",
     "output_type": "stream",
     "text": [
      "popcorn\n"
     ]
    }
   ],
   "source": [
    "food = [\"ramen\",\"biryani\",\"fried chicken\"]\n",
    "food[0] = \"popcorn\""
   ]
  },
  {
   "cell_type": "code",
   "execution_count": 13,
   "id": "b26c3f6e",
   "metadata": {},
   "outputs": [
    {
     "name": "stdout",
     "output_type": "stream",
     "text": [
      "[['Student', 'Height', 'Weight', 'Age'], ['Ellie', 4.6, 60, 10], ['Sofia', 4.9, 75, 11], ['Jesus', 5.0, 80, 10], ['Jamal', 4.2, 45, 10], ['Poppy', 5.1, 80, 11]]\n"
     ]
    }
   ],
   "source": [
    "dataTab = [[\"Student\", \"Height\", \"Weight\", \"Age\"],\n",
    "           [\"Ellie\", 4.6, 60, 10],\n",
    "           [\"Sofia\", 4.9, 75, 11],\n",
    "           [\"Jesus\", 5.0, 80, 10],\n",
    "           [\"Jamal\", 4.2, 45 ,10],\n",
    "           [\"Poppy\", 5.1, 80 ,11]]"
   ]
  },
  {
   "cell_type": "code",
   "execution_count": null,
   "id": "172d035b",
   "metadata": {},
   "outputs": [],
   "source": []
  }
 ],
 "metadata": {
  "kernelspec": {
   "display_name": "Python 3 (ipykernel)",
   "language": "python",
   "name": "python3"
  },
  "language_info": {
   "codemirror_mode": {
    "name": "ipython",
    "version": 3
   },
   "file_extension": ".py",
   "mimetype": "text/x-python",
   "name": "python",
   "nbconvert_exporter": "python",
   "pygments_lexer": "ipython3",
   "version": "3.9.12"
  }
 },
 "nbformat": 4,
 "nbformat_minor": 5
}

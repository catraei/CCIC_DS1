{
 "cells": [
  {
   "cell_type": "code",
   "execution_count": 8,
   "id": "9f7ce97c",
   "metadata": {},
   "outputs": [],
   "source": [
    "import pandas as pd\n",
    "import seaborn as sns"
   ]
  },
  {
   "cell_type": "code",
   "execution_count": 9,
   "id": "e02a19aa",
   "metadata": {},
   "outputs": [],
   "source": [
    "data = pd.read_csv('olympic_equestrians.csv')"
   ]
  },
  {
   "cell_type": "code",
   "execution_count": 10,
   "id": "10503f04",
   "metadata": {},
   "outputs": [],
   "source": [
    "data = data.iloc[:744]"
   ]
  },
  {
   "cell_type": "code",
   "execution_count": 12,
   "id": "150ea4bd",
   "metadata": {
    "scrolled": true
   },
   "outputs": [
    {
     "data": {
      "text/html": [
       "<div>\n",
       "<style scoped>\n",
       "    .dataframe tbody tr th:only-of-type {\n",
       "        vertical-align: middle;\n",
       "    }\n",
       "\n",
       "    .dataframe tbody tr th {\n",
       "        vertical-align: top;\n",
       "    }\n",
       "\n",
       "    .dataframe thead th {\n",
       "        text-align: right;\n",
       "    }\n",
       "</style>\n",
       "<table border=\"1\" class=\"dataframe\">\n",
       "  <thead>\n",
       "    <tr style=\"text-align: right;\">\n",
       "      <th></th>\n",
       "      <th>discipline_title</th>\n",
       "      <th>medal_type</th>\n",
       "      <th>athlete_full_name</th>\n",
       "    </tr>\n",
       "  </thead>\n",
       "  <tbody>\n",
       "    <tr>\n",
       "      <th>0</th>\n",
       "      <td>Equestrian</td>\n",
       "      <td>GOLD</td>\n",
       "      <td>Julia KRAJEWSKI</td>\n",
       "    </tr>\n",
       "    <tr>\n",
       "      <th>1</th>\n",
       "      <td>Equestrian</td>\n",
       "      <td>SILVER</td>\n",
       "      <td>Tom MCEWEN</td>\n",
       "    </tr>\n",
       "    <tr>\n",
       "      <th>2</th>\n",
       "      <td>Equestrian</td>\n",
       "      <td>BRONZE</td>\n",
       "      <td>Andrew HOY</td>\n",
       "    </tr>\n",
       "    <tr>\n",
       "      <th>3</th>\n",
       "      <td>Equestrian</td>\n",
       "      <td>SILVER</td>\n",
       "      <td>Isabell WERTH</td>\n",
       "    </tr>\n",
       "    <tr>\n",
       "      <th>4</th>\n",
       "      <td>Equestrian</td>\n",
       "      <td>GOLD</td>\n",
       "      <td>Jessica VON BREDOW-WERNDL</td>\n",
       "    </tr>\n",
       "    <tr>\n",
       "      <th>5</th>\n",
       "      <td>Equestrian</td>\n",
       "      <td>BRONZE</td>\n",
       "      <td>Charlotte DUJARDIN</td>\n",
       "    </tr>\n",
       "    <tr>\n",
       "      <th>6</th>\n",
       "      <td>Equestrian</td>\n",
       "      <td>SILVER</td>\n",
       "      <td>Peder FREDRICSON</td>\n",
       "    </tr>\n",
       "    <tr>\n",
       "      <th>7</th>\n",
       "      <td>Equestrian</td>\n",
       "      <td>GOLD</td>\n",
       "      <td>Ben MAHER</td>\n",
       "    </tr>\n",
       "    <tr>\n",
       "      <th>8</th>\n",
       "      <td>Equestrian</td>\n",
       "      <td>BRONZE</td>\n",
       "      <td>Maikel VAN DER VLEUTEN</td>\n",
       "    </tr>\n",
       "  </tbody>\n",
       "</table>\n",
       "</div>"
      ],
      "text/plain": [
       "  discipline_title medal_type          athlete_full_name\n",
       "0       Equestrian       GOLD            Julia KRAJEWSKI\n",
       "1       Equestrian     SILVER                 Tom MCEWEN\n",
       "2       Equestrian     BRONZE                 Andrew HOY\n",
       "3       Equestrian     SILVER              Isabell WERTH\n",
       "4       Equestrian       GOLD  Jessica VON BREDOW-WERNDL\n",
       "5       Equestrian     BRONZE         Charlotte DUJARDIN\n",
       "6       Equestrian     SILVER           Peder FREDRICSON\n",
       "7       Equestrian       GOLD                  Ben MAHER\n",
       "8       Equestrian     BRONZE     Maikel VAN DER VLEUTEN"
      ]
     },
     "execution_count": 12,
     "metadata": {},
     "output_type": "execute_result"
    }
   ],
   "source": [
    "data.drop(columns=['slug_game', 'event_title','event_gender','participant_type','participant_title','athlete_url','country_name','country_code','country_3_letter_code'])"
   ]
  },
  {
   "cell_type": "code",
   "execution_count": null,
   "id": "b6e5e158",
   "metadata": {},
   "outputs": [],
   "source": []
  }
 ],
 "metadata": {
  "kernelspec": {
   "display_name": "Python 3 (ipykernel)",
   "language": "python",
   "name": "python3"
  },
  "language_info": {
   "codemirror_mode": {
    "name": "ipython",
    "version": 3
   },
   "file_extension": ".py",
   "mimetype": "text/x-python",
   "name": "python",
   "nbconvert_exporter": "python",
   "pygments_lexer": "ipython3",
   "version": "3.9.12"
  }
 },
 "nbformat": 4,
 "nbformat_minor": 5
}
